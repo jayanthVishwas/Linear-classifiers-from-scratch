{
 "cells": [
  {
   "cell_type": "code",
   "execution_count": 1,
   "id": "aa5ac047",
   "metadata": {},
   "outputs": [],
   "source": [
    "import numpy as np\n",
    "import pandas as pd\n",
    "from operator import methodcaller\n",
    "import string"
   ]
  },
  {
   "cell_type": "code",
   "execution_count": 2,
   "id": "78063ce2",
   "metadata": {},
   "outputs": [],
   "source": [
    "data_file = \"C:/USC notes/CSCI 662/assignments/assignment 1/datasets/4dim.train.txt\""
   ]
  },
  {
   "cell_type": "code",
   "execution_count": 19,
   "id": "91f189b7",
   "metadata": {},
   "outputs": [],
   "source": [
    "def tokenize(text):\n",
    "    # TODO customize to your needs\n",
    "    text = text.translate(str.maketrans({key: \" {0} \".format(key) for key in string.punctuation}))\n",
    "    text=text.lower()\n",
    "    return text.split()\n",
    "\n",
    "with open(data_file) as file:\n",
    "            data = file.read().splitlines()\n",
    "\n",
    "data_split = map(methodcaller(\"rsplit\", \"\\t\", 1), data)\n",
    "texts, labels = map(list, zip(*data_split))\n",
    "\n",
    "tokenized_text = [tokenize(text) for text in texts]"
   ]
  },
  {
   "cell_type": "code",
   "execution_count": 5,
   "id": "3efdf9c5",
   "metadata": {},
   "outputs": [],
   "source": [
    "vocab=set()"
   ]
  },
  {
   "cell_type": "code",
   "execution_count": 6,
   "id": "b60e82ae",
   "metadata": {},
   "outputs": [],
   "source": [
    "for tokens in tokenized_text:\n",
    "    for word in tokens:\n",
    "        word=word.strip()\n",
    "        vocab.add(word)"
   ]
  },
  {
   "cell_type": "code",
   "execution_count": 7,
   "id": "96bfe237",
   "metadata": {},
   "outputs": [],
   "source": [
    "d=dict.fromkeys(vocab,0)\n",
    "idf_vocab=dict.fromkeys(vocab,0)"
   ]
  },
  {
   "cell_type": "code",
   "execution_count": 8,
   "id": "26418bd3",
   "metadata": {},
   "outputs": [],
   "source": [
    "def calculate_IDF(idf_vocab,tokenized_text):\n",
    "    for key in idf_vocab:\n",
    "        for tokens in tokenized_text:\n",
    "            if key in tokens:\n",
    "                idf_vocab[key]+=1\n",
    "                continue\n",
    "        idf_vocab[key]=np.log(len(tokenized_text)/(idf_vocab[key]+1))\n",
    "    return idf_vocab"
   ]
  },
  {
   "cell_type": "code",
   "execution_count": 15,
   "id": "bd8edc03",
   "metadata": {},
   "outputs": [],
   "source": [
    "def calculate_tfIdf(tokenized_text,idf_vocab,d):\n",
    "    df=pd.DataFrame(columns=d)\n",
    "    \n",
    "    X=np.zeros\n",
    "    for document in tokenized_text:\n",
    "        i+=1\n",
    "        for word in document:\n",
    "                d[word]+=1\n",
    "\n",
    "        for keys in d:\n",
    "            d[keys]=d[keys]*idf_vocab[keys]\n",
    "\n",
    "        df=df.append(d,ignore_index=True)\n",
    "        d=dict.fromkeys(vocab,0)\n",
    "    return df"
   ]
  },
  {
   "cell_type": "code",
   "execution_count": 6,
   "id": "b8440e33",
   "metadata": {},
   "outputs": [
    {
     "data": {
      "text/plain": [
       "array(['neg.dec', 'neg.tru', 'pos.dec', 'pos.tru'], dtype='<U7')"
      ]
     },
     "execution_count": 6,
     "metadata": {},
     "output_type": "execute_result"
    }
   ],
   "source": [
    "np.unique(labels)"
   ]
  },
  {
   "cell_type": "code",
   "execution_count": 24,
   "id": "437910ea",
   "metadata": {},
   "outputs": [],
   "source": [
    "labels=np.array(labels)"
   ]
  },
  {
   "cell_type": "code",
   "execution_count": 28,
   "id": "0a7c1d65",
   "metadata": {},
   "outputs": [],
   "source": [
    "y=labels[labels=='neg.dec']"
   ]
  },
  {
   "cell_type": "code",
   "execution_count": 31,
   "id": "7ee257d8",
   "metadata": {},
   "outputs": [
    {
     "data": {
      "text/plain": [
       "392"
      ]
     },
     "execution_count": 31,
     "metadata": {},
     "output_type": "execute_result"
    }
   ],
   "source": [
    "len(y)"
   ]
  },
  {
   "cell_type": "code",
   "execution_count": 34,
   "id": "75b97daa",
   "metadata": {},
   "outputs": [
    {
     "name": "stderr",
     "output_type": "stream",
     "text": [
      "<ipython-input-34-b1b08b7f67cf>:1: VisibleDeprecationWarning: Creating an ndarray from ragged nested sequences (which is a list-or-tuple of lists-or-tuples-or ndarrays with different lengths or shapes) is deprecated. If you meant to do this, you must specify 'dtype=object' when creating the ndarray.\n",
      "  tokenized_text=np.array(tokenized_text)\n"
     ]
    }
   ],
   "source": [
    "tokenized_text=np.array(tokenized_text)"
   ]
  },
  {
   "cell_type": "code",
   "execution_count": 44,
   "id": "348a4ce3",
   "metadata": {},
   "outputs": [],
   "source": [
    "y=labels=='neg.dec'"
   ]
  },
  {
   "cell_type": "code",
   "execution_count": 46,
   "id": "a3bc493a",
   "metadata": {},
   "outputs": [
    {
     "data": {
      "text/plain": [
       "1560"
      ]
     },
     "execution_count": 46,
     "metadata": {},
     "output_type": "execute_result"
    }
   ],
   "source": [
    "len(y)"
   ]
  },
  {
   "cell_type": "code",
   "execution_count": 2,
   "id": "a691712d",
   "metadata": {},
   "outputs": [],
   "source": [
    "X = np.random.rand(3,2)"
   ]
  },
  {
   "cell_type": "code",
   "execution_count": 3,
   "id": "a5b5eebd",
   "metadata": {},
   "outputs": [
    {
     "data": {
      "text/plain": [
       "array([[0.62974273, 0.24780258],\n",
       "       [0.9733223 , 0.76167054],\n",
       "       [0.96348236, 0.3693004 ]])"
      ]
     },
     "execution_count": 3,
     "metadata": {},
     "output_type": "execute_result"
    }
   ],
   "source": [
    "X"
   ]
  },
  {
   "cell_type": "code",
   "execution_count": 5,
   "id": "b5a8b800",
   "metadata": {},
   "outputs": [
    {
     "name": "stdout",
     "output_type": "stream",
     "text": [
      "[0.62974273 0.24780258]\n",
      "\n",
      "\n",
      "[0.9733223  0.76167054]\n",
      "\n",
      "\n",
      "[0.96348236 0.3693004 ]\n",
      "\n",
      "\n"
     ]
    }
   ],
   "source": [
    "for x in X:\n",
    "    print(x)\n",
    "    print(\"\\n\")"
   ]
  },
  {
   "cell_type": "code",
   "execution_count": 17,
   "id": "97704e05",
   "metadata": {},
   "outputs": [],
   "source": [
    "x=[np.nan,1,2,3]"
   ]
  },
  {
   "cell_type": "code",
   "execution_count": 18,
   "id": "d83a9c03",
   "metadata": {},
   "outputs": [],
   "source": [
    "x=np.array(x)"
   ]
  },
  {
   "cell_type": "code",
   "execution_count": 19,
   "id": "b0714577",
   "metadata": {},
   "outputs": [
    {
     "data": {
      "text/plain": [
       "array([nan,  1.,  2.,  3.])"
      ]
     },
     "execution_count": 19,
     "metadata": {},
     "output_type": "execute_result"
    }
   ],
   "source": [
    "x"
   ]
  },
  {
   "cell_type": "code",
   "execution_count": 20,
   "id": "2ccf809e",
   "metadata": {},
   "outputs": [],
   "source": [
    "a= np.log(x)"
   ]
  },
  {
   "cell_type": "code",
   "execution_count": 21,
   "id": "e667f664",
   "metadata": {},
   "outputs": [
    {
     "data": {
      "text/plain": [
       "array([       nan, 0.        , 0.69314718, 1.09861229])"
      ]
     },
     "execution_count": 21,
     "metadata": {},
     "output_type": "execute_result"
    }
   ],
   "source": [
    "a"
   ]
  },
  {
   "cell_type": "code",
   "execution_count": 22,
   "id": "b9fc353d",
   "metadata": {},
   "outputs": [],
   "source": [
    "b=np.nansum(a)"
   ]
  },
  {
   "cell_type": "code",
   "execution_count": 23,
   "id": "a8e9bf04",
   "metadata": {},
   "outputs": [
    {
     "data": {
      "text/plain": [
       "1.791759469228055"
      ]
     },
     "execution_count": 23,
     "metadata": {},
     "output_type": "execute_result"
    }
   ],
   "source": [
    "b"
   ]
  },
  {
   "cell_type": "code",
   "execution_count": null,
   "id": "5d4b5be6",
   "metadata": {},
   "outputs": [],
   "source": []
  }
 ],
 "metadata": {
  "kernelspec": {
   "display_name": "Python 3",
   "language": "python",
   "name": "python3"
  },
  "language_info": {
   "codemirror_mode": {
    "name": "ipython",
    "version": 3
   },
   "file_extension": ".py",
   "mimetype": "text/x-python",
   "name": "python",
   "nbconvert_exporter": "python",
   "pygments_lexer": "ipython3",
   "version": "3.8.8"
  }
 },
 "nbformat": 4,
 "nbformat_minor": 5
}
